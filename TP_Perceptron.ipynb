{
  "nbformat": 4,
  "nbformat_minor": 0,
  "metadata": {
    "colab": {
      "provenance": [],
      "include_colab_link": true
    },
    "kernelspec": {
      "name": "python3",
      "display_name": "Python 3"
    },
    "language_info": {
      "name": "python"
    }
  },
  "cells": [
    {
      "cell_type": "markdown",
      "metadata": {
        "id": "view-in-github",
        "colab_type": "text"
      },
      "source": [
        "<a href=\"https://colab.research.google.com/github/imsmahi/Machine_Learning1_IA1_2324/blob/main/TP_Perceptron.ipynb\" target=\"_parent\"><img src=\"https://colab.research.google.com/assets/colab-badge.svg\" alt=\"Open In Colab\"/></a>"
      ]
    },
    {
      "cell_type": "markdown",
      "source": [
        "# **TP n°2: Implémentation d'un perceptron (Version Draft)**\n",
        "\n",
        "**Auteur:** SMAHI Mohammed Ismail / Benledghem Rafika\n",
        "\n",
        "**Année:** 2022/2023\n",
        "\n",
        "**Module:** Apprentissage statistique\n",
        "\n",
        "**Promotion:** Modèles intelligents et décision MID\n",
        "\n",
        "**Département:** d'Informatique (Université de Tlemcen)\n",
        "\n",
        "**L’objectif** du TP est d'implémenter votre tout premier réseau de neurones. L'étudiant doit se familia44e444szriser avec les notions d'apprentissage supervisé, la propagation, la rétro-propagation, la descente de gradient, la fonction perte, etc.\n",
        "\n",
        "Pour cela, nous construisons un réseau de neurone(s) très simple avec un seul neurone. Nous considérons une seule entrée qui représente des valeurs de température en degrés Celsius, et qui est connectée à un seul neurone (également la sortie) qui représente les mêmes valeurs mais exprimées, cette fois-ci, en Fahrenheit.\n",
        "\n",
        "<img src=\"https://drive.google.com/uc?id=1NaYw6OrIwapvB0HNuRPop0xNsln1eu9C\" ></img>\n",
        "\n",
        "Notre premier modèle va s’entraîner avec les données d'entrée et de sortie correspondante. L'objectif final est que le modèle va apprendre à multiplier l'entrée par 1.8 puis d'additionner 32 pour obtenir le résultat correct (voir figure).\n",
        "\n"
      ],
      "metadata": {
        "id": "IDhDSY4m2b1z"
      }
    },
    {
      "cell_type": "markdown",
      "source": [
        "## Les différents imports"
      ],
      "metadata": {
        "id": "2sq1EXMONfj9"
      }
    },
    {
      "cell_type": "code",
      "execution_count": null,
      "metadata": {
        "id": "Ta7xapbVhRlf"
      },
      "outputs": [],
      "source": [
        "import matplotlib.pyplot as plt\n",
        "import random\n",
        "import math"
      ]
    },
    {
      "cell_type": "markdown",
      "source": [
        "## Equation de conversion\n",
        "\n",
        "Pour convertir en degrés Celsius une température donnée en degrés Fahrenheit, il suffit de soustraire 32 et de diviser par 1,8 (9/5 = 1,8) le nombre ainsi obtenu."
      ],
      "metadata": {
        "id": "W8bBTZwVNix1"
      }
    },
    {
      "cell_type": "code",
      "source": [
        "def celsius_to_fahrenheit(celsius):\n",
        "    return (celsius * 1.8) + 32"
      ],
      "metadata": {
        "id": "bNlChkuJhooE"
      },
      "execution_count": null,
      "outputs": []
    },
    {
      "cell_type": "markdown",
      "source": [
        "## Génération de données\n",
        "\n",
        "Pour ce TP, l'apprentissage s'effectuera sur un intervalle de 100 valeurs (comprises entre -50 et 50).\n",
        "\n",
        "*   Les températeurs en Celsius sont contenues dans le tableau `celsius_values`.\n",
        "*   Les températeurs en Fahrenheit sont contenues dans le tableau `fahrenheit_values`."
      ],
      "metadata": {
        "id": "E7ss0s0pPHm-"
      }
    },
    {
      "cell_type": "code",
      "source": [
        "celsius_values = range(-50,50)\n",
        "fahrenheit_values = []"
      ],
      "metadata": {
        "id": "DewafnhEh1Bk"
      },
      "execution_count": null,
      "outputs": []
    },
    {
      "cell_type": "code",
      "source": [
        "SAMPLE_SIZE = len(celsius_values)\n",
        "for i in range(SAMPLE_SIZE):\n",
        "   fahrenheit_values.append(celsius_to_fahrenheit(celsius_values[i]))"
      ],
      "metadata": {
        "id": "URrKb0apiuHJ"
      },
      "execution_count": null,
      "outputs": []
    },
    {
      "cell_type": "markdown",
      "source": [
        "## La Phase de propagation"
      ],
      "metadata": {
        "id": "0AI5AKI1Nt1Z"
      }
    },
    {
      "cell_type": "code",
      "source": [
        "weight = random.random()\n",
        "bias = random.random()\n",
        "\n",
        "def forward():\n",
        "\n",
        "  Predicted_output = []\n",
        "\n",
        "  for i in range(SAMPLE_SIZE):\n",
        "      Predicted_outputs= celsius_values[i] * weight + bias\n",
        "      Predicted_output.append(Predicted_outputs)\n",
        "\n",
        "  cumulative_loss = 0\n",
        "\n",
        "  for i in range(SAMPLE_SIZE):\n",
        "      cumulative_loss += math.pow(Predicted_output[i] - fahrenheit_values[i], 2)\n",
        "\n",
        "  loss = cumulative_loss / SAMPLE_SIZE\n",
        "\n",
        "  return Predicted_output, loss"
      ],
      "metadata": {
        "id": "Z0-7lP07J7eG"
      },
      "execution_count": null,
      "outputs": []
    },
    {
      "cell_type": "markdown",
      "source": [
        "## La phase de rétro-propagation"
      ],
      "metadata": {
        "id": "nUqKLr1WN2Mw"
      }
    },
    {
      "cell_type": "code",
      "source": [
        "def backward(output):\n",
        "\n",
        "  grad_output = []\n",
        "\n",
        "  for i in range(SAMPLE_SIZE):\n",
        "      grad_outputs= 2*(output[i] - fahrenheit_values[i])/SAMPLE_SIZE\n",
        "      grad_output.append(grad_outputs)\n",
        "\n",
        "  grad_weight = 0\n",
        "\n",
        "  for i in range(SAMPLE_SIZE):\n",
        "      grad_weight+= celsius_values[i] * grad_output[i]\n",
        "\n",
        "  grad_bias = sum(grad_output)\n",
        "\n",
        "  return grad_weight, grad_bias"
      ],
      "metadata": {
        "id": "rGY6SjKqKsHR"
      },
      "execution_count": null,
      "outputs": []
    },
    {
      "cell_type": "markdown",
      "source": [
        "## Processus d'apprentissage"
      ],
      "metadata": {
        "id": "p1M2IOChN9FV"
      }
    },
    {
      "cell_type": "markdown",
      "source": [
        "### Modification des paramètres"
      ],
      "metadata": {
        "id": "azSGh63zOOIB"
      }
    },
    {
      "cell_type": "code",
      "source": [
        "LEARNING_RATE = 0.0001\n",
        "\n",
        "def update_parameters(grad_weight, grad_bias):\n",
        "  global weight, bias\n",
        "\n",
        "  descent_grad_weight = LEARNING_RATE * grad_weight\n",
        "  descent_grad_bias = LEARNING_RATE * grad_bias\n",
        "\n",
        "  weight = weight - descent_grad_weight\n",
        "  bias = bias - descent_grad_bias"
      ],
      "metadata": {
        "id": "kUaNK8fdN0Rh"
      },
      "execution_count": null,
      "outputs": []
    },
    {
      "cell_type": "markdown",
      "source": [
        "### Apprentissage"
      ],
      "metadata": {
        "id": "F_tZb5E8OSYK"
      }
    },
    {
      "cell_type": "code",
      "source": [
        "def train(epoch=500):\n",
        "  for t in range(epoch):\n",
        "      output, loss = forward()\n",
        "      grad_weight, grad_bias = backward(output)\n",
        "      update_parameters(grad_weight, grad_bias)"
      ],
      "metadata": {
        "id": "PJTCZBwlOWmq"
      },
      "execution_count": null,
      "outputs": []
    },
    {
      "cell_type": "code",
      "source": [
        "def get_predicted_fahrenheit_values():\n",
        "  prediction, loss = forward()\n",
        "  return prediction"
      ],
      "metadata": {
        "id": "qmX8Ly3SOguM"
      },
      "execution_count": null,
      "outputs": []
    },
    {
      "cell_type": "code",
      "source": [
        "epoch=200\n",
        "predicted_before_training = get_predicted_fahrenheit_values()\n",
        "train(epoch)\n",
        "predicted_after_training = get_predicted_fahrenheit_values()"
      ],
      "metadata": {
        "id": "w1lAa6-vQdzo"
      },
      "execution_count": null,
      "outputs": []
    },
    {
      "cell_type": "markdown",
      "source": [
        "### Visualisation des résultats"
      ],
      "metadata": {
        "id": "Of2FkYL3oJyD"
      }
    },
    {
      "cell_type": "code",
      "source": [
        "fig, ax = plt.subplots()\n",
        "ax.plot(celsius_values, fahrenheit_values, '-b', label='Températures réelles')\n",
        "ax.plot(celsius_values, predicted_before_training, '--r', label='Températures avant apprentissage')\n",
        "ax.plot(celsius_values, predicted_after_training, '--g', label='Températures après apprentissage')\n",
        "plt.xlabel(\"Celsius\")\n",
        "plt.ylabel(\"Fahrenheit\")\n",
        "ax.legend(frameon=False)\n",
        "plt.show()"
      ],
      "metadata": {
        "colab": {
          "base_uri": "https://localhost:8080/",
          "height": 279
        },
        "id": "onrnN4tGQpAz",
        "outputId": "eed096df-1975-4209-9ccc-0b8066166e68"
      },
      "execution_count": null,
      "outputs": [
        {
          "output_type": "display_data",
          "data": {
            "text/plain": [
              "<Figure size 432x288 with 1 Axes>"
            ],
            "image/png": "[encoded data removed]"
          },
          "metadata": {
            "needs_background": "light"
          }
        }
      ]
    },
    {
      "cell_type": "markdown",
      "source": [
        "# Travail demandé\n",
        "\n",
        "\n",
        "*   **$Q_0$:** Exécuter et commenter le code source ci-dessus.\n",
        "*   **$Q_1$:** Afficher la valeur des variables `weight` et `bias`. Que remarquez vous !\n",
        "*   **$Q_2$:** Augmenter la valeur de la variable `epoch` et exécuter l'apprentissage. Que remarquez vous !\n",
        "*   **$Q_3$:** Sauvegarder les valeurs de la variable `loss` pour chaque itération.\n",
        "*   **$Q_4$:** Afficher dans un diagramme la courbe de convergence de la variable `loss`.\n",
        "\n",
        "*   **$Q_5$:** Modifier le programme de telle sorte que les données d'entrée et de sortie soient dans la même structure de données (Dataframe).\n",
        "\n",
        "*   **$Q_6$:** Diviser les données de telle sorte à utiliser une partie pour l'apprentissage et une deuxième partie pour la phase des test. La proportion de division est de 80% pour l'apprentissage et 20% pour la phase de test.\n",
        "\n",
        "*   **$Q_7$:** Implémenter la fonction sigmoid: $sigmoid(z)=\\frac{1}{1+e^{-z}}$\n",
        "\n",
        "*   **$Q_{8}$:** Proposer une version améliorée.\n",
        "\n",
        "*   **$Q_9$:** Modifier la structure du réseau en ajoutant un nouveau neurone connecté à la sortie du neurone initial.\n",
        "\n",
        "<img src=\"https://drive.google.com/uc?id=1R-LeBAGzVA7fnIEjR1dsYUdB-ial3sQc\" height=65></img>\n",
        "\n",
        "*   **$Q_{10}$:** Modifier la structure précédente comme suit:\n",
        "\n",
        "<img src=\"https://drive.google.com/uc?id=1kNztwzC5Wl3gaaYbEk5wZu2T--gWzLXR\" height=150></img>\n",
        "\n"
      ],
      "metadata": {
        "id": "ao7CjFat4CWU"
      }
    }
  ]
}